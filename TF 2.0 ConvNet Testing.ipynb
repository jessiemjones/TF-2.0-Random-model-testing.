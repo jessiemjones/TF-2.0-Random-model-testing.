{
 "cells": [
  {
   "cell_type": "code",
   "execution_count": 1,
   "metadata": {},
   "outputs": [
    {
     "data": {
      "text/plain": [
       "'2.0.0-alpha0'"
      ]
     },
     "execution_count": 1,
     "metadata": {},
     "output_type": "execute_result"
    }
   ],
   "source": [
    "from __future__ import absolute_import, division, print_function, unicode_literals\n",
    "\n",
    "import tensorflow as tf\n",
    "from tensorflow.keras import datasets, layers, models\n",
    "tf.__version__"
   ]
  },
  {
   "cell_type": "code",
   "execution_count": 2,
   "metadata": {},
   "outputs": [],
   "source": [
    "import numpy as np\n",
    "import matplotlib.pyplot as plt"
   ]
  },
  {
   "cell_type": "markdown",
   "metadata": {},
   "source": [
    "#### Loading data"
   ]
  },
  {
   "cell_type": "code",
   "execution_count": 3,
   "metadata": {},
   "outputs": [],
   "source": [
    "fashion_mnist = datasets.fashion_mnist"
   ]
  },
  {
   "cell_type": "code",
   "execution_count": 4,
   "metadata": {},
   "outputs": [],
   "source": [
    "(train_images, train_labels), (test_images, test_labels) = fashion_mnist.load_data()"
   ]
  },
  {
   "cell_type": "markdown",
   "metadata": {},
   "source": [
    "#### Exploring data a bit"
   ]
  },
  {
   "cell_type": "code",
   "execution_count": 5,
   "metadata": {},
   "outputs": [
    {
     "name": "stdout",
     "output_type": "stream",
     "text": [
      "(60000, 28, 28)\n",
      "(60000,)\n",
      "(10000, 28, 28)\n",
      "(10000,)\n",
      "(28, 28)\n"
     ]
    }
   ],
   "source": [
    "print(train_images.shape)\n",
    "print(train_labels.shape)\n",
    "print(test_images.shape)\n",
    "print(test_labels.shape)\n",
    "print(train_images[0].shape)"
   ]
  },
  {
   "cell_type": "code",
   "execution_count": 5,
   "metadata": {},
   "outputs": [],
   "source": [
    "train_images, test_images = train_images / 255.0, test_images / 255.0"
   ]
  },
  {
   "cell_type": "code",
   "execution_count": 6,
   "metadata": {},
   "outputs": [],
   "source": [
    "class_names = ['T-shirt/top', 'Trouser', 'Pullover', 'Dress', 'Coat', \n",
    "               'Sandal', 'Shirt', 'Sneaker', 'Bag', 'Ankle boot']"
   ]
  },
  {
   "cell_type": "code",
   "execution_count": 8,
   "metadata": {},
   "outputs": [
    {
     "data": {
      "image/png": "[encoded data removed]",
      "text/plain": [
       "<Figure size 432x288 with 2 Axes>"
      ]
     },
     "metadata": {
      "needs_background": "light"
     },
     "output_type": "display_data"
    }
   ],
   "source": [
    "plt.figure()\n",
    "plt.imshow(train_images[0], cmap=plt.cm.binary)\n",
    "plt.title(class_names[train_labels[0]])\n",
    "plt.colorbar()\n",
    "plt.grid(False)\n",
    "plt.show()"
   ]
  },
  {
   "cell_type": "code",
   "execution_count": 7,
   "metadata": {},
   "outputs": [],
   "source": [
    "train_images = train_images.reshape((60000, 28, 28, 1))\n",
    "test_images = test_images.reshape((10000, 28, 28, 1))"
   ]
  },
  {
   "cell_type": "markdown",
   "metadata": {},
   "source": [
    "#### Create Model"
   ]
  },
  {
   "cell_type": "code",
   "execution_count": 10,
   "metadata": {},
   "outputs": [],
   "source": [
    "model1 = models.Sequential()\n",
    "model1.add(layers.Conv2D(32, (3, 3), activation='relu', input_shape=(28,28,1)))\n",
    "model1.add(layers.MaxPooling2D((2,2)))\n",
    "model1.add(layers.Conv2D(64, (3,3), activation='relu'))\n",
    "model1.add(layers.MaxPooling2D((2,2)))\n",
    "model1.add(layers.Conv2D(64,(3,3), activation='relu'))\n",
    "model1.add(layers.Flatten())\n",
    "model1.add(layers.Dense(64, activation='relu'))\n",
    "model1.add(layers.Dense(10, activation='softmax'))"
   ]
  },
  {
   "cell_type": "code",
   "execution_count": 11,
   "metadata": {},
   "outputs": [
    {
     "name": "stdout",
     "output_type": "stream",
     "text": [
      "Model: \"sequential\"\n",
      "_________________________________________________________________\n",
      "Layer (type)                 Output Shape              Param #   \n",
      "=================================================================\n",
      "conv2d (Conv2D)              (None, 26, 26, 32)        320       \n",
      "_________________________________________________________________\n",
      "max_pooling2d (MaxPooling2D) (None, 13, 13, 32)        0         \n",
      "_________________________________________________________________\n",
      "conv2d_1 (Conv2D)            (None, 11, 11, 64)        18496     \n",
      "_________________________________________________________________\n",
      "max_pooling2d_1 (MaxPooling2 (None, 5, 5, 64)          0         \n",
      "_________________________________________________________________\n",
      "conv2d_2 (Conv2D)            (None, 3, 3, 64)          36928     \n",
      "_________________________________________________________________\n",
      "flatten (Flatten)            (None, 576)               0         \n",
      "_________________________________________________________________\n",
      "dense (Dense)                (None, 64)                36928     \n",
      "_________________________________________________________________\n",
      "dense_1 (Dense)              (None, 10)                650       \n",
      "=================================================================\n",
      "Total params: 93,322\n",
      "Trainable params: 93,322\n",
      "Non-trainable params: 0\n",
      "_________________________________________________________________\n"
     ]
    }
   ],
   "source": [
    "model1.summary()"
   ]
  },
  {
   "cell_type": "code",
   "execution_count": 12,
   "metadata": {},
   "outputs": [],
   "source": [
    "model1.compile(optimizer='adam',\n",
    "             loss='sparse_categorical_crossentropy',\n",
    "             metrics=['accuracy'])"
   ]
  },
  {
   "cell_type": "code",
   "execution_count": 14,
   "metadata": {},
   "outputs": [
    {
     "name": "stdout",
     "output_type": "stream",
     "text": [
      "Epoch 1/5\n",
      "60000/60000 [==============================] - 15s 256us/sample - loss: 0.4943 - accuracy: 0.8175\n",
      "Epoch 2/5\n",
      "60000/60000 [==============================] - 14s 229us/sample - loss: 0.3177 - accuracy: 0.8837\n",
      "Epoch 3/5\n",
      "60000/60000 [==============================] - 14s 231us/sample - loss: 0.2740 - accuracy: 0.9004\n",
      "Epoch 4/5\n",
      "60000/60000 [==============================] - 14s 231us/sample - loss: 0.2447 - accuracy: 0.9105\n",
      "Epoch 5/5\n",
      "60000/60000 [==============================] - 14s 233us/sample - loss: 0.2199 - accuracy: 0.9182\n"
     ]
    }
   ],
   "source": [
    "model1_history = model1.fit(train_images, \n",
    "          train_labels, \n",
    "          epochs=5)"
   ]
  },
  {
   "cell_type": "code",
   "execution_count": 16,
   "metadata": {},
   "outputs": [
    {
     "name": "stdout",
     "output_type": "stream",
     "text": [
      "10000/10000 [==============================] - 1s 113us/sample - loss: 0.2702 - accuracy: 0.9019\n"
     ]
    }
   ],
   "source": [
    "test_loss, test_acc = model1.evaluate(test_images, test_labels)"
   ]
  },
  {
   "cell_type": "code",
   "execution_count": 17,
   "metadata": {},
   "outputs": [],
   "source": [
    "model2 = models.Sequential()\n",
    "model2.add(layers.Conv2D(32, (3, 3), activation='relu', input_shape=(28,28,1)))\n",
    "model2.add(layers.MaxPooling2D((2,2)))\n",
    "model2.add(layers.Conv2D(64, (3,3), activation='relu'))\n",
    "model2.add(layers.MaxPooling2D((2,2)))\n",
    "model2.add(layers.Conv2D(64,(3,3), activation='relu'))\n",
    "model2.add(layers.Flatten())\n",
    "model2.add(layers.Dense(64, activation='relu'))\n",
    "model2.add(layers.Dense(10, activation='softmax'))"
   ]
  },
  {
   "cell_type": "code",
   "execution_count": 18,
   "metadata": {},
   "outputs": [
    {
     "name": "stdout",
     "output_type": "stream",
     "text": [
      "Model: \"sequential_1\"\n",
      "_________________________________________________________________\n",
      "Layer (type)                 Output Shape              Param #   \n",
      "=================================================================\n",
      "conv2d_3 (Conv2D)            (None, 26, 26, 32)        320       \n",
      "_________________________________________________________________\n",
      "max_pooling2d_2 (MaxPooling2 (None, 13, 13, 32)        0         \n",
      "_________________________________________________________________\n",
      "conv2d_4 (Conv2D)            (None, 11, 11, 64)        18496     \n",
      "_________________________________________________________________\n",
      "max_pooling2d_3 (MaxPooling2 (None, 5, 5, 64)          0         \n",
      "_________________________________________________________________\n",
      "conv2d_5 (Conv2D)            (None, 3, 3, 64)          36928     \n",
      "_________________________________________________________________\n",
      "flatten_1 (Flatten)          (None, 576)               0         \n",
      "_________________________________________________________________\n",
      "dense_2 (Dense)              (None, 64)                36928     \n",
      "_________________________________________________________________\n",
      "dense_3 (Dense)              (None, 10)                650       \n",
      "=================================================================\n",
      "Total params: 93,322\n",
      "Trainable params: 93,322\n",
      "Non-trainable params: 0\n",
      "_________________________________________________________________\n"
     ]
    }
   ],
   "source": [
    "model2.summary()"
   ]
  },
  {
   "cell_type": "code",
   "execution_count": 38,
   "metadata": {},
   "outputs": [],
   "source": [
    "model2.compile(optimizer=tf.keras.optimizers.Adam(\n",
    "               learning_rate=0.001,\n",
    "               beta_1=0.9,\n",
    "               beta_2=0.999,\n",
    "               epsilon=1e-07),\n",
    "               loss='sparse_categorical_crossentropy',\n",
    "               metrics=['accuracy'])"
   ]
  },
  {
   "cell_type": "code",
   "execution_count": 34,
   "metadata": {},
   "outputs": [
    {
     "name": "stdout",
     "output_type": "stream",
     "text": [
      "Epoch 1/5\n",
      "60000/60000 [==============================] - 15s 244us/sample - loss: 0.2068 - accuracy: 0.9236\n",
      "Epoch 2/5\n",
      "60000/60000 [==============================] - 14s 230us/sample - loss: 0.1886 - accuracy: 0.9306\n",
      "Epoch 3/5\n",
      "60000/60000 [==============================] - 13s 220us/sample - loss: 0.1729 - accuracy: 0.9349\n",
      "Epoch 4/5\n",
      "60000/60000 [==============================] - 13s 223us/sample - loss: 0.1583 - accuracy: 0.9402\n",
      "Epoch 5/5\n",
      "60000/60000 [==============================] - 13s 223us/sample - loss: 0.1466 - accuracy: 0.9457\n"
     ]
    }
   ],
   "source": [
    "model2_history = model2.fit(train_images, \n",
    "                  train_labels, \n",
    "                  epochs=5,\n",
    "                  batch_size=32,\n",
    "                  verbose=1)"
   ]
  },
  {
   "cell_type": "code",
   "execution_count": 28,
   "metadata": {},
   "outputs": [
    {
     "name": "stdout",
     "output_type": "stream",
     "text": [
      "10000/10000 [==============================] - 1s 113us/sample - loss: 0.2683 - accuracy: 0.9042\n"
     ]
    }
   ],
   "source": [
    "test_loss, test_acc = model2.evaluate(test_images, test_labels)"
   ]
  },
  {
   "cell_type": "code",
   "execution_count": 32,
   "metadata": {},
   "outputs": [],
   "source": [
    "def plot_history(history):\n",
    "    loss = plt.plot(history.epoch)"
   ]
  },
  {
   "cell_type": "code",
   "execution_count": 33,
   "metadata": {},
   "outputs": [
    {
     "data": {
      "image/png": "[encoded data removed]",
      "text/plain": [
       "<Figure size 432x288 with 1 Axes>"
      ]
     },
     "metadata": {
      "needs_background": "light"
     },
     "output_type": "display_data"
    }
   ],
   "source": [
    "plot_history(model2_history)"
   ]
  },
  {
   "cell_type": "code",
   "execution_count": 35,
   "metadata": {},
   "outputs": [],
   "source": [
    "model3 = models.Sequential()\n",
    "model3.add(layers.Conv2D(32, (3, 3), activation='relu', input_shape=(28,28,1)))\n",
    "model3.add(layers.MaxPooling2D((2,2)))\n",
    "model3.add(layers.Conv2D(64, (3,3), activation='relu'))\n",
    "model3.add(layers.MaxPooling2D((2,2)))\n",
    "model3.add(layers.Conv2D(64,(3,3), activation='relu'))\n",
    "model3.add(layers.Flatten())\n",
    "model3.add(layers.Dense(64, activation='relu'))\n",
    "model3.add(layers.Dense(10, activation='softmax'))"
   ]
  },
  {
   "cell_type": "code",
   "execution_count": 37,
   "metadata": {},
   "outputs": [],
   "source": [
    "model3.compile(optimizer=tf.keras.optimizers.Adam(\n",
    "               learning_rate=0.01,\n",
    "               beta_1=0.9,\n",
    "               beta_2=0.999,\n",
    "               epsilon=1e-07),\n",
    "               loss='sparse_categorical_crossentropy',\n",
    "               metrics=['accuracy'])"
   ]
  },
  {
   "cell_type": "code",
   "execution_count": 39,
   "metadata": {},
   "outputs": [
    {
     "name": "stdout",
     "output_type": "stream",
     "text": [
      "Epoch 1/5\n",
      "60000/60000 [==============================] - 14s 232us/sample - loss: 0.5161 - accuracy: 0.8066\n",
      "Epoch 2/5\n",
      "60000/60000 [==============================] - 14s 229us/sample - loss: 0.4117 - accuracy: 0.8472\n",
      "Epoch 3/5\n",
      "60000/60000 [==============================] - 14s 228us/sample - loss: 0.3961 - accuracy: 0.8546\n",
      "Epoch 4/5\n",
      "60000/60000 [==============================] - 14s 229us/sample - loss: 0.3852 - accuracy: 0.8592\n",
      "Epoch 5/5\n",
      "60000/60000 [==============================] - 14s 229us/sample - loss: 0.3794 - accuracy: 0.8623\n"
     ]
    }
   ],
   "source": [
    "model3_history = model3.fit(train_images, \n",
    "                  train_labels, \n",
    "                  epochs=5,\n",
    "                  batch_size=32,\n",
    "                  verbose=1)"
   ]
  },
  {
   "cell_type": "code",
   "execution_count": 43,
   "metadata": {},
   "outputs": [
    {
     "name": "stdout",
     "output_type": "stream",
     "text": [
      "10000/10000 [==============================] - 1s 113us/sample - loss: 0.4147 - accuracy: 0.8496\n"
     ]
    }
   ],
   "source": [
    "test_loss, test_acc = model3.evaluate(test_images, test_labels)"
   ]
  },
  {
   "cell_type": "code",
   "execution_count": 40,
   "metadata": {},
   "outputs": [],
   "source": [
    "model4 = models.Sequential([\n",
    "    layers.Conv2D(32, (3, 3), activation='relu', input_shape=(28,28,1)),\n",
    "    layers.MaxPooling2D((2,2)),\n",
    "    layers.Conv2D(64, (3,3), activation='relu'),\n",
    "    layers.MaxPooling2D((2,2)),\n",
    "    layers.Conv2D(64,(3,3), activation='relu'),\n",
    "    layers.Flatten(),\n",
    "    layers.Dense(64, activation='relu'),\n",
    "    layers.Dense(10, activation='softmax')\n",
    "])"
   ]
  },
  {
   "cell_type": "code",
   "execution_count": 41,
   "metadata": {},
   "outputs": [],
   "source": [
    "model4.compile(optimizer=tf.keras.optimizers.Adam(\n",
    "               learning_rate=0.003,\n",
    "               beta_1=0.9,\n",
    "               beta_2=0.999,\n",
    "               epsilon=1e-07),\n",
    "               loss='sparse_categorical_crossentropy',\n",
    "               metrics=['accuracy'])"
   ]
  },
  {
   "cell_type": "code",
   "execution_count": 42,
   "metadata": {},
   "outputs": [
    {
     "name": "stdout",
     "output_type": "stream",
     "text": [
      "Epoch 1/5\n",
      "60000/60000 [==============================] - 14s 234us/sample - loss: 0.4613 - accuracy: 0.8298\n",
      "Epoch 2/5\n",
      "60000/60000 [==============================] - 14s 229us/sample - loss: 0.3157 - accuracy: 0.8824\n",
      "Epoch 3/5\n",
      "60000/60000 [==============================] - 14s 232us/sample - loss: 0.2800 - accuracy: 0.8971\n",
      "Epoch 4/5\n",
      "60000/60000 [==============================] - 14s 232us/sample - loss: 0.2614 - accuracy: 0.9034\n",
      "Epoch 5/5\n",
      "60000/60000 [==============================] - 14s 233us/sample - loss: 0.2405 - accuracy: 0.9113\n"
     ]
    }
   ],
   "source": [
    "model4_history = model4.fit(train_images, \n",
    "                  train_labels, \n",
    "                  epochs=5,\n",
    "                  batch_size=32,\n",
    "                  verbose=1)"
   ]
  },
  {
   "cell_type": "code",
   "execution_count": 44,
   "metadata": {},
   "outputs": [
    {
     "name": "stdout",
     "output_type": "stream",
     "text": [
      "10000/10000 [==============================] - 1s 113us/sample - loss: 0.3187 - accuracy: 0.8868\n"
     ]
    }
   ],
   "source": [
    "test_loss, test_acc = model4.evaluate(test_images, test_labels)"
   ]
  },
  {
   "cell_type": "code",
   "execution_count": 45,
   "metadata": {},
   "outputs": [],
   "source": [
    "model5 = models.Sequential([\n",
    "    layers.Conv2D(32, (3, 3), activation='relu', input_shape=(28,28,1)),\n",
    "    layers.MaxPooling2D((2,2)),\n",
    "    layers.Conv2D(64, (3,3), activation='relu'),\n",
    "    layers.MaxPooling2D((2,2)),\n",
    "    layers.Conv2D(64,(3,3), activation='relu'),\n",
    "    layers.Flatten(),\n",
    "    layers.Dense(64, activation='relu'),\n",
    "    layers.Dense(10, activation='softmax')\n",
    "])"
   ]
  },
  {
   "cell_type": "code",
   "execution_count": 46,
   "metadata": {},
   "outputs": [],
   "source": [
    "model5.compile(optimizer=tf.keras.optimizers.Adam(\n",
    "               learning_rate=0.001,\n",
    "               beta_1=0.9,\n",
    "               beta_2=0.999,\n",
    "               epsilon=1e-07),\n",
    "               loss='sparse_categorical_crossentropy',\n",
    "               metrics=['accuracy'])"
   ]
  },
  {
   "cell_type": "code",
   "execution_count": 47,
   "metadata": {},
   "outputs": [
    {
     "name": "stdout",
     "output_type": "stream",
     "text": [
      "Epoch 1/5\n",
      "60000/60000 [==============================] - 14s 235us/sample - loss: 0.5116 - accuracy: 0.8130\n",
      "Epoch 2/5\n",
      "60000/60000 [==============================] - 14s 232us/sample - loss: 0.3268 - accuracy: 0.8813\n",
      "Epoch 3/5\n",
      "60000/60000 [==============================] - 14s 232us/sample - loss: 0.2786 - accuracy: 0.8982\n",
      "Epoch 4/5\n",
      "60000/60000 [==============================] - 14s 231us/sample - loss: 0.2481 - accuracy: 0.9087\n",
      "Epoch 5/5\n",
      "60000/60000 [==============================] - 14s 232us/sample - loss: 0.2248 - accuracy: 0.9171\n"
     ]
    }
   ],
   "source": [
    "model5_history = model5.fit(train_images, \n",
    "                  train_labels, \n",
    "                  epochs=5,\n",
    "                  batch_size=32,\n",
    "                  verbose=1)"
   ]
  },
  {
   "cell_type": "code",
   "execution_count": 48,
   "metadata": {},
   "outputs": [
    {
     "name": "stdout",
     "output_type": "stream",
     "text": [
      "10000/10000 [==============================] - 1s 118us/sample - loss: 0.2637 - accuracy: 0.9051\n"
     ]
    }
   ],
   "source": [
    "test_loss, test_acc = model5.evaluate(test_images, test_labels)"
   ]
  },
  {
   "cell_type": "code",
   "execution_count": 49,
   "metadata": {},
   "outputs": [],
   "source": [
    "model6 = models.Sequential([\n",
    "    layers.Conv2D(32, (3, 3), activation='relu', input_shape=(28,28,1)),\n",
    "    layers.MaxPooling2D((2,2)),\n",
    "    layers.Conv2D(64, (3,3), activation='relu'),\n",
    "    layers.MaxPooling2D((2,2)),\n",
    "    layers.Conv2D(64,(3,3), activation='relu'),\n",
    "    layers.Flatten(),\n",
    "    layers.Dense(64, activation='relu'),\n",
    "    layers.Dense(10, activation='softmax')\n",
    "])"
   ]
  },
  {
   "cell_type": "code",
   "execution_count": 50,
   "metadata": {},
   "outputs": [],
   "source": [
    "model6.compile(optimizer=tf.keras.optimizers.Adam(\n",
    "               learning_rate=0.001,\n",
    "               beta_1=0.9,\n",
    "               beta_2=0.999,\n",
    "               epsilon=1e-07),\n",
    "               loss='sparse_categorical_crossentropy',\n",
    "               metrics=['accuracy'])"
   ]
  },
  {
   "cell_type": "code",
   "execution_count": 51,
   "metadata": {},
   "outputs": [
    {
     "name": "stdout",
     "output_type": "stream",
     "text": [
      "Epoch 1/5\n",
      "60000/60000 [==============================] - 9s 144us/sample - loss: 0.5537 - accuracy: 0.7973\n",
      "Epoch 2/5\n",
      "60000/60000 [==============================] - 8s 140us/sample - loss: 0.3480 - accuracy: 0.8732\n",
      "Epoch 3/5\n",
      "60000/60000 [==============================] - 8s 141us/sample - loss: 0.2966 - accuracy: 0.8916\n",
      "Epoch 4/5\n",
      "60000/60000 [==============================] - 8s 140us/sample - loss: 0.2691 - accuracy: 0.9005\n",
      "Epoch 5/5\n",
      "60000/60000 [==============================] - 8s 140us/sample - loss: 0.2456 - accuracy: 0.9096\n"
     ]
    }
   ],
   "source": [
    "model6_history = model6.fit(train_images, \n",
    "                  train_labels, \n",
    "                  epochs=5,\n",
    "                  batch_size=64,\n",
    "                  verbose=1)"
   ]
  },
  {
   "cell_type": "code",
   "execution_count": 52,
   "metadata": {},
   "outputs": [
    {
     "name": "stdout",
     "output_type": "stream",
     "text": [
      "10000/10000 [==============================] - 1s 112us/sample - loss: 0.2786 - accuracy: 0.8990\n"
     ]
    }
   ],
   "source": [
    "test_loss, test_acc = model6.evaluate(test_images, test_labels)"
   ]
  },
  {
   "cell_type": "code",
   "execution_count": 53,
   "metadata": {},
   "outputs": [
    {
     "name": "stdout",
     "output_type": "stream",
     "text": [
      "Epoch 1/5\n",
      "60000/60000 [==============================] - 15s 249us/sample - loss: 0.5046 - accuracy: 0.8139\n",
      "Epoch 2/5\n",
      "60000/60000 [==============================] - 14s 232us/sample - loss: 0.3229 - accuracy: 0.8830\n",
      "Epoch 3/5\n",
      "60000/60000 [==============================] - 14s 233us/sample - loss: 0.2758 - accuracy: 0.8998\n",
      "Epoch 4/5\n",
      "60000/60000 [==============================] - 14s 233us/sample - loss: 0.2451 - accuracy: 0.9096\n",
      "Epoch 5/5\n",
      "60000/60000 [==============================] - 14s 233us/sample - loss: 0.2235 - accuracy: 0.9177\n",
      "10000/10000 [==============================] - 1s 110us/sample - loss: 0.2643 - accuracy: 0.9049\n"
     ]
    }
   ],
   "source": [
    "model7 = models.Sequential([\n",
    "    layers.Conv2D(32, (3, 3), activation='relu', input_shape=(28,28,1)),\n",
    "    layers.MaxPooling2D((2,2)),\n",
    "    layers.Conv2D(64, (3,3), activation='relu'),\n",
    "    layers.MaxPooling2D((2,2)),\n",
    "    layers.Conv2D(64,(3,3), activation='relu'),\n",
    "    layers.Flatten(),\n",
    "    layers.Dense(64, activation='relu'),\n",
    "    layers.Dense(10, activation='softmax')\n",
    "])\n",
    "\n",
    "model7.compile(optimizer=tf.keras.optimizers.Adam(\n",
    "               learning_rate=0.0008,\n",
    "               beta_1=0.9,\n",
    "               beta_2=0.999,\n",
    "               epsilon=1e-07),\n",
    "               loss='sparse_categorical_crossentropy',\n",
    "               metrics=['accuracy'])\n",
    "\n",
    "model7_history = model7.fit(train_images, \n",
    "                  train_labels, \n",
    "                  epochs=5,\n",
    "                  batch_size=32,\n",
    "                  verbose=1)\n",
    "\n",
    "test_loss, test_acc = model7.evaluate(test_images, test_labels)"
   ]
  },
  {
   "cell_type": "code",
   "execution_count": 54,
   "metadata": {},
   "outputs": [
    {
     "name": "stdout",
     "output_type": "stream",
     "text": [
      "Epoch 1/5\n",
      "60000/60000 [==============================] - 25s 423us/sample - loss: 0.4624 - accuracy: 0.8291\n",
      "Epoch 2/5\n",
      "60000/60000 [==============================] - 24s 402us/sample - loss: 0.3070 - accuracy: 0.8873\n",
      "Epoch 3/5\n",
      "60000/60000 [==============================] - 24s 401us/sample - loss: 0.2624 - accuracy: 0.9022\n",
      "Epoch 4/5\n",
      "60000/60000 [==============================] - 24s 402us/sample - loss: 0.2330 - accuracy: 0.9123\n",
      "Epoch 5/5\n",
      "60000/60000 [==============================] - 24s 399us/sample - loss: 0.2140 - accuracy: 0.9202\n",
      "10000/10000 [==============================] - 1s 114us/sample - loss: 0.2572 - accuracy: 0.9080\n"
     ]
    }
   ],
   "source": [
    "model8 = models.Sequential([\n",
    "    layers.Conv2D(32, (3, 3), activation='relu', input_shape=(28,28,1)),\n",
    "    layers.MaxPooling2D((2,2)),\n",
    "    layers.Conv2D(64, (3,3), activation='relu'),\n",
    "    layers.MaxPooling2D((2,2)),\n",
    "    layers.Conv2D(64,(3,3), activation='relu'),\n",
    "    layers.Flatten(),\n",
    "    layers.Dense(64, activation='relu'),\n",
    "    layers.Dense(10, activation='softmax')\n",
    "])\n",
    "\n",
    "model8.compile(optimizer=tf.keras.optimizers.Adam(\n",
    "               learning_rate=0.001,\n",
    "               beta_1=0.9,\n",
    "               beta_2=0.999,\n",
    "               epsilon=1e-07),\n",
    "               loss='sparse_categorical_crossentropy',\n",
    "               metrics=['accuracy'])\n",
    "\n",
    "model8_history = model8.fit(train_images, \n",
    "                  train_labels, \n",
    "                  epochs=5,\n",
    "                  batch_size=16,\n",
    "                  verbose=1)\n",
    "\n",
    "test_loss, test_acc = model8.evaluate(test_images, test_labels)"
   ]
  },
  {
   "cell_type": "code",
   "execution_count": 56,
   "metadata": {},
   "outputs": [
    {
     "name": "stdout",
     "output_type": "stream",
     "text": [
      "Epoch 1/20\n",
      "60000/60000 [==============================] - 15s 248us/sample - loss: 0.5018 - accuracy: 0.8145\n",
      "Epoch 2/20\n",
      "60000/60000 [==============================] - 14s 233us/sample - loss: 0.3178 - accuracy: 0.8840\n",
      "Epoch 3/20\n",
      "60000/60000 [==============================] - 14s 228us/sample - loss: 0.2702 - accuracy: 0.9008\n",
      "Epoch 4/20\n",
      "60000/60000 [==============================] - 14s 228us/sample - loss: 0.2440 - accuracy: 0.9097\n",
      "Epoch 5/20\n",
      "60000/60000 [==============================] - 14s 229us/sample - loss: 0.2210 - accuracy: 0.9188\n",
      "Epoch 6/20\n",
      "60000/60000 [==============================] - 14s 228us/sample - loss: 0.1982 - accuracy: 0.9261\n",
      "Epoch 7/20\n",
      "60000/60000 [==============================] - 14s 229us/sample - loss: 0.1827 - accuracy: 0.9313\n",
      "Epoch 8/20\n",
      "60000/60000 [==============================] - 14s 229us/sample - loss: 0.1677 - accuracy: 0.9376\n",
      "Epoch 9/20\n",
      "60000/60000 [==============================] - 14s 226us/sample - loss: 0.1546 - accuracy: 0.9425\n",
      "Epoch 10/20\n",
      "60000/60000 [==============================] - 14s 229us/sample - loss: 0.1406 - accuracy: 0.9474\n",
      "Epoch 11/20\n",
      "60000/60000 [==============================] - 14s 230us/sample - loss: 0.1307 - accuracy: 0.9510\n",
      "Epoch 12/20\n",
      "60000/60000 [==============================] - 14s 230us/sample - loss: 0.1226 - accuracy: 0.9535\n",
      "Epoch 13/20\n",
      "60000/60000 [==============================] - 14s 230us/sample - loss: 0.1140 - accuracy: 0.9561\n",
      "Epoch 14/20\n",
      "60000/60000 [==============================] - 14s 230us/sample - loss: 0.1060 - accuracy: 0.9602\n",
      "Epoch 15/20\n",
      "60000/60000 [==============================] - 14s 230us/sample - loss: 0.0951 - accuracy: 0.9641\n",
      "Epoch 16/20\n",
      "60000/60000 [==============================] - 14s 230us/sample - loss: 0.0920 - accuracy: 0.9652\n",
      "Epoch 17/20\n",
      "60000/60000 [==============================] - 14s 230us/sample - loss: 0.0857 - accuracy: 0.9671\n",
      "Epoch 18/20\n",
      "60000/60000 [==============================] - 14s 229us/sample - loss: 0.0793 - accuracy: 0.9692\n",
      "Epoch 19/20\n",
      "60000/60000 [==============================] - 14s 231us/sample - loss: 0.0749 - accuracy: 0.9722\n",
      "Epoch 20/20\n",
      "60000/60000 [==============================] - 14s 230us/sample - loss: 0.0709 - accuracy: 0.9736\n",
      "10000/10000 [==============================] - 1s 112us/sample - loss: 0.4128 - accuracy: 0.9027\n"
     ]
    }
   ],
   "source": [
    "model9 = models.Sequential([\n",
    "    layers.Conv2D(32, (3, 3), activation='relu',input_shape=(28,28,1)),\n",
    "    layers.MaxPooling2D((2,2)),\n",
    "    layers.Conv2D(64, (3,3), activation='relu'),\n",
    "    layers.MaxPooling2D((2,2)),\n",
    "    layers.Conv2D(64,(3,3), activation='relu'),\n",
    "    layers.Flatten(),\n",
    "    layers.Dense(64, activation='relu'),\n",
    "    layers.Dense(10, activation='softmax')\n",
    "])\n",
    "\n",
    "model9.compile(optimizer=tf.keras.optimizers.Adam(\n",
    "               learning_rate=0.001,\n",
    "               beta_1=0.9,\n",
    "               beta_2=0.999,\n",
    "               epsilon=1e-07),\n",
    "               loss='sparse_categorical_crossentropy',\n",
    "               metrics=['accuracy'])\n",
    "\n",
    "model_history9 = model9.fit(train_images, \n",
    "                  train_labels, \n",
    "                  epochs=20,\n",
    "                  batch_size=32,\n",
    "                  verbose=1)\n",
    "\n",
    "test_loss, test_acc = model9.evaluate(test_images, test_labels)"
   ]
  },
  {
   "cell_type": "markdown",
   "metadata": {},
   "source": [
    "###### Model is overfitting.  Will try adding regularization"
   ]
  },
  {
   "cell_type": "code",
   "execution_count": 10,
   "metadata": {},
   "outputs": [
    {
     "name": "stdout",
     "output_type": "stream",
     "text": [
      "Epoch 1/20\n",
      "60000/60000 [==============================] - 19s 315us/sample - loss: 0.3891 - accuracy: 0.8598\n",
      "Epoch 2/20\n",
      "60000/60000 [==============================] - 17s 283us/sample - loss: 0.2761 - accuracy: 0.8970\n",
      "Epoch 3/20\n",
      "60000/60000 [==============================] - 17s 279us/sample - loss: 0.2342 - accuracy: 0.9133\n",
      "Epoch 4/20\n",
      "60000/60000 [==============================] - 17s 277us/sample - loss: 0.2073 - accuracy: 0.9224\n",
      "Epoch 5/20\n",
      "60000/60000 [==============================] - 17s 278us/sample - loss: 0.1867 - accuracy: 0.9299\n",
      "Epoch 6/20\n",
      "60000/60000 [==============================] - 17s 278us/sample - loss: 0.1637 - accuracy: 0.9384\n",
      "Epoch 7/20\n",
      "60000/60000 [==============================] - 17s 279us/sample - loss: 0.1492 - accuracy: 0.9434\n",
      "Epoch 8/20\n",
      "60000/60000 [==============================] - 17s 280us/sample - loss: 0.1335 - accuracy: 0.9493\n",
      "Epoch 9/20\n",
      "60000/60000 [==============================] - 17s 277us/sample - loss: 0.1210 - accuracy: 0.9547\n",
      "Epoch 10/20\n",
      "60000/60000 [==============================] - 17s 280us/sample - loss: 0.1078 - accuracy: 0.9589\n",
      "Epoch 11/20\n",
      "60000/60000 [==============================] - 17s 277us/sample - loss: 0.1012 - accuracy: 0.9618\n",
      "Epoch 12/20\n",
      "60000/60000 [==============================] - 17s 275us/sample - loss: 0.0910 - accuracy: 0.9655\n",
      "Epoch 13/20\n",
      "60000/60000 [==============================] - 17s 277us/sample - loss: 0.0821 - accuracy: 0.9692\n",
      "Epoch 14/20\n",
      "60000/60000 [==============================] - 17s 280us/sample - loss: 0.0748 - accuracy: 0.9715\n",
      "Epoch 15/20\n",
      "60000/60000 [==============================] - 17s 284us/sample - loss: 0.0684 - accuracy: 0.9750\n",
      "Epoch 16/20\n",
      "60000/60000 [==============================] - 17s 282us/sample - loss: 0.0633 - accuracy: 0.9759\n",
      "Epoch 17/20\n",
      "60000/60000 [==============================] - 17s 280us/sample - loss: 0.0617 - accuracy: 0.9772\n",
      "Epoch 18/20\n",
      "60000/60000 [==============================] - 17s 280us/sample - loss: 0.0526 - accuracy: 0.9799\n",
      "Epoch 19/20\n",
      "60000/60000 [==============================] - 17s 279us/sample - loss: 0.0529 - accuracy: 0.9804\n",
      "Epoch 20/20\n",
      "60000/60000 [==============================] - 17s 279us/sample - loss: 0.0495 - accuracy: 0.9813\n",
      "10000/10000 [==============================] - 1s 127us/sample - loss: 0.4595 - accuracy: 0.9099\n"
     ]
    }
   ],
   "source": [
    "model10 = models.Sequential([\n",
    "    layers.Conv2D(32, (3, 3), activation='relu', input_shape=(28,28,1)),\n",
    "    layers.BatchNormalization(),\n",
    "    layers.MaxPooling2D((2,2)),\n",
    "    layers.Conv2D(64, (3,3), activation='relu'),\n",
    "    layers.BatchNormalization(),\n",
    "    layers.MaxPooling2D((2,2)),\n",
    "    layers.Conv2D(64,(3,3), activation='relu'),\n",
    "    layers.BatchNormalization(),\n",
    "    layers.Flatten(),\n",
    "    layers.Dense(64, activation='relu'),\n",
    "    layers.Dense(10, activation='softmax')\n",
    "])\n",
    "\n",
    "model10.compile(optimizer=tf.keras.optimizers.Adam(\n",
    "               learning_rate=0.001,\n",
    "               beta_1=0.9,\n",
    "               beta_2=0.999,\n",
    "               epsilon=1e-07),\n",
    "               loss='sparse_categorical_crossentropy',\n",
    "               metrics=['accuracy'])\n",
    "\n",
    "model_history10 = model10.fit(train_images, \n",
    "                  train_labels, \n",
    "                  epochs=20,\n",
    "                  batch_size=32,\n",
    "                  verbose=1)\n",
    "\n",
    "test_loss, test_acc = model10.evaluate(test_images, test_labels)"
   ]
  },
  {
   "cell_type": "code",
   "execution_count": 12,
   "metadata": {},
   "outputs": [
    {
     "name": "stdout",
     "output_type": "stream",
     "text": [
      "Epoch 1/20\n",
      "60000/60000 [==============================] - 20s 332us/sample - loss: 0.4742 - accuracy: 0.8268\n",
      "Epoch 2/20\n",
      "60000/60000 [==============================] - 19s 319us/sample - loss: 0.3444 - accuracy: 0.8737\n",
      "Epoch 3/20\n",
      "60000/60000 [==============================] - 19s 324us/sample - loss: 0.3035 - accuracy: 0.8888\n",
      "Epoch 4/20\n",
      "60000/60000 [==============================] - 20s 326us/sample - loss: 0.2740 - accuracy: 0.8982\n",
      "Epoch 5/20\n",
      "60000/60000 [==============================] - 21s 354us/sample - loss: 0.2519 - accuracy: 0.9065\n",
      "Epoch 6/20\n",
      "60000/60000 [==============================] - 23s 390us/sample - loss: 0.2321 - accuracy: 0.9131\n",
      "Epoch 7/20\n",
      "60000/60000 [==============================] - 19s 325us/sample - loss: 0.2175 - accuracy: 0.9196\n",
      "Epoch 8/20\n",
      "60000/60000 [==============================] - 19s 325us/sample - loss: 0.2030 - accuracy: 0.9240\n",
      "Epoch 9/20\n",
      "60000/60000 [==============================] - 19s 323us/sample - loss: 0.1906 - accuracy: 0.9283\n",
      "Epoch 10/20\n",
      "60000/60000 [==============================] - 19s 321us/sample - loss: 0.1778 - accuracy: 0.9336\n",
      "Epoch 11/20\n",
      "60000/60000 [==============================] - 20s 328us/sample - loss: 0.1675 - accuracy: 0.9373\n",
      "Epoch 12/20\n",
      "60000/60000 [==============================] - 19s 320us/sample - loss: 0.1588 - accuracy: 0.9408\n",
      "Epoch 13/20\n",
      "60000/60000 [==============================] - 19s 323us/sample - loss: 0.1513 - accuracy: 0.9435\n",
      "Epoch 14/20\n",
      "60000/60000 [==============================] - 20s 326us/sample - loss: 0.1412 - accuracy: 0.9473\n",
      "Epoch 15/20\n",
      "60000/60000 [==============================] - 21s 345us/sample - loss: 0.1345 - accuracy: 0.9497\n",
      "Epoch 16/20\n",
      "60000/60000 [==============================] - 19s 323us/sample - loss: 0.1277 - accuracy: 0.9520\n",
      "Epoch 17/20\n",
      "60000/60000 [==============================] - 20s 327us/sample - loss: 0.1224 - accuracy: 0.9543\n",
      "Epoch 18/20\n",
      "60000/60000 [==============================] - 20s 327us/sample - loss: 0.1169 - accuracy: 0.9557\n",
      "Epoch 19/20\n",
      "60000/60000 [==============================] - 20s 326us/sample - loss: 0.1134 - accuracy: 0.9576\n",
      "Epoch 20/20\n",
      "60000/60000 [==============================] - 20s 330us/sample - loss: 0.1075 - accuracy: 0.9591\n",
      "10000/10000 [==============================] - 1s 137us/sample - loss: 0.3874 - accuracy: 0.8974\n"
     ]
    }
   ],
   "source": [
    "model11 = models.Sequential([\n",
    "    layers.Conv2D(32, (3, 3), activation='relu', input_shape=(28,28,1)),\n",
    "    layers.BatchNormalization(),\n",
    "    layers.MaxPooling2D((2,2)),\n",
    "    layers.Conv2D(64, (3,3), activation='relu'),\n",
    "    layers.BatchNormalization(),\n",
    "    layers.MaxPooling2D((2,2)),\n",
    "    layers.Conv2D(64,(3,3), activation='relu'),\n",
    "    layers.BatchNormalization(),\n",
    "    layers.MaxPooling2D((2,2)),\n",
    "    layers.Conv2D(128,(3,3), activation='relu', padding=\"same\"),\n",
    "    layers.BatchNormalization(),\n",
    "    layers.Flatten(),\n",
    "    layers.Dense(64, activation='relu'),\n",
    "    layers.Dense(10, activation='softmax')\n",
    "])\n",
    "\n",
    "model11.compile(optimizer=tf.keras.optimizers.Adam(\n",
    "               learning_rate=0.001,\n",
    "               beta_1=0.9,\n",
    "               beta_2=0.999,\n",
    "               epsilon=1e-07),\n",
    "               loss='sparse_categorical_crossentropy',\n",
    "               metrics=['accuracy'])\n",
    "\n",
    "model_history11 = model11.fit(train_images, \n",
    "                  train_labels, \n",
    "                  epochs=20,\n",
    "                  batch_size=32,\n",
    "                  verbose=1)\n",
    "\n",
    "test_loss, test_acc = model11.evaluate(test_images, test_labels)"
   ]
  },
  {
   "cell_type": "markdown",
   "metadata": {},
   "source": []
  }
 ],
 "metadata": {
  "kernelspec": {
   "display_name": "Python 3",
   "language": "python",
   "name": "python3"
  },
  "language_info": {
   "codemirror_mode": {
    "name": "ipython",
    "version": 3
   },
   "file_extension": ".py",
   "mimetype": "text/x-python",
   "name": "python",
   "nbconvert_exporter": "python",
   "pygments_lexer": "ipython3",
   "version": "3.7.3"
  }
 },
 "nbformat": 4,
 "nbformat_minor": 2
}
